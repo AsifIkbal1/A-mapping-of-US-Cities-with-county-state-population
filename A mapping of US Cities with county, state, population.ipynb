{
 "cells": [
  {
   "cell_type": "code",
   "execution_count": 135,
   "metadata": {},
   "outputs": [],
   "source": [
    "import pandas as pd\n",
    "from pandas.plotting import scatter_matrix\n",
    "import matplotlib.pyplot as plt\n",
    "from sklearn import model_selection\n",
    "from sklearn.metrics import classification_report\n",
    "from sklearn.metrics import confusion_matrix\n",
    "from sklearn.metrics import accuracy_score\n",
    "from sklearn.linear_model import LogisticRegression\n",
    "from sklearn.tree import DecisionTreeClassifier\n",
    "from sklearn.neighbors import KNeighborsClassifier\n",
    "from sklearn.discriminant_analysis import LinearDiscriminantAnalysis\n",
    "from sklearn.naive_bayes import GaussianNB\n",
    "from sklearn.svm import SVC\n",
    "from sklearn.model_selection import train_test_split\n",
    "from sklearn.linear_model import LinearRegression\n",
    "from sklearn.linear_model import LogisticRegression\n",
    "import numpy as np\n",
    "import pandas as pd\n",
    "from sklearn.preprocessing import StandardScaler\n",
    "from sklearn.metrics import f1_score\n",
    "from sklearn.metrics import accuracy_score\n",
    "%matplotlib inline\n",
    "import seaborn as sns\n",
    "import pandas as pd\n",
    "from sklearn.naive_bayes import GaussianNB\n",
    "from sklearn.model_selection import train_test_split\n",
    "from sklearn.preprocessing import LabelEncoder\n"
   ]
  },
  {
   "cell_type": "code",
   "execution_count": 136,
   "metadata": {},
   "outputs": [
    {
     "data": {
      "text/html": [
       "<div>\n",
       "<style scoped>\n",
       "    .dataframe tbody tr th:only-of-type {\n",
       "        vertical-align: middle;\n",
       "    }\n",
       "\n",
       "    .dataframe tbody tr th {\n",
       "        vertical-align: top;\n",
       "    }\n",
       "\n",
       "    .dataframe thead th {\n",
       "        text-align: right;\n",
       "    }\n",
       "</style>\n",
       "<table border=\"1\" class=\"dataframe\">\n",
       "  <thead>\n",
       "    <tr style=\"text-align: right;\">\n",
       "      <th></th>\n",
       "      <th>Age</th>\n",
       "      <th>Weight(kg)</th>\n",
       "      <th>Height(cm)</th>\n",
       "      <th>Neck(cm)</th>\n",
       "      <th>Waist(cm)</th>\n",
       "      <th>Hip(cm)</th>\n",
       "      <th>Body Fat Percentage</th>\n",
       "    </tr>\n",
       "  </thead>\n",
       "  <tbody>\n",
       "    <tr>\n",
       "      <th>0</th>\n",
       "      <td>25</td>\n",
       "      <td>50</td>\n",
       "      <td>160</td>\n",
       "      <td>36.0</td>\n",
       "      <td>60</td>\n",
       "      <td>81</td>\n",
       "      <td>10.3</td>\n",
       "    </tr>\n",
       "    <tr>\n",
       "      <th>1</th>\n",
       "      <td>25</td>\n",
       "      <td>60</td>\n",
       "      <td>165</td>\n",
       "      <td>35.0</td>\n",
       "      <td>61</td>\n",
       "      <td>84</td>\n",
       "      <td>12.1</td>\n",
       "    </tr>\n",
       "    <tr>\n",
       "      <th>2</th>\n",
       "      <td>25</td>\n",
       "      <td>55</td>\n",
       "      <td>170</td>\n",
       "      <td>36.2</td>\n",
       "      <td>60</td>\n",
       "      <td>85</td>\n",
       "      <td>10.1</td>\n",
       "    </tr>\n",
       "    <tr>\n",
       "      <th>3</th>\n",
       "      <td>25</td>\n",
       "      <td>66</td>\n",
       "      <td>145</td>\n",
       "      <td>36.5</td>\n",
       "      <td>62</td>\n",
       "      <td>80</td>\n",
       "      <td>14.7</td>\n",
       "    </tr>\n",
       "    <tr>\n",
       "      <th>4</th>\n",
       "      <td>25</td>\n",
       "      <td>67</td>\n",
       "      <td>150</td>\n",
       "      <td>37.0</td>\n",
       "      <td>66</td>\n",
       "      <td>84</td>\n",
       "      <td>17.8</td>\n",
       "    </tr>\n",
       "  </tbody>\n",
       "</table>\n",
       "</div>"
      ],
      "text/plain": [
       "   Age  Weight(kg)  Height(cm)  Neck(cm)  Waist(cm)  Hip(cm)  \\\n",
       "0   25          50         160      36.0         60       81   \n",
       "1   25          60         165      35.0         61       84   \n",
       "2   25          55         170      36.2         60       85   \n",
       "3   25          66         145      36.5         62       80   \n",
       "4   25          67         150      37.0         66       84   \n",
       "\n",
       "   Body Fat Percentage  \n",
       "0                 10.3  \n",
       "1                 12.1  \n",
       "2                 10.1  \n",
       "3                 14.7  \n",
       "4                 17.8  "
      ]
     },
     "execution_count": 136,
     "metadata": {},
     "output_type": "execute_result"
    }
   ],
   "source": [
    "df=pd.read_excel('file:///C:/Users/Md%20Asif%20Ikbal/Downloads/Body%20Fat%20Percentage.xlsx')\n",
    "df.head()"
   ]
  },
  {
   "cell_type": "code",
   "execution_count": 137,
   "metadata": {},
   "outputs": [
    {
     "data": {
      "text/plain": [
       "(24, 7)"
      ]
     },
     "execution_count": 137,
     "metadata": {},
     "output_type": "execute_result"
    }
   ],
   "source": [
    "df.shape"
   ]
  },
  {
   "cell_type": "code",
   "execution_count": 138,
   "metadata": {},
   "outputs": [
    {
     "name": "stdout",
     "output_type": "stream",
     "text": [
      "<class 'pandas.core.frame.DataFrame'>\n",
      "RangeIndex: 24 entries, 0 to 23\n",
      "Data columns (total 7 columns):\n",
      " #   Column               Non-Null Count  Dtype  \n",
      "---  ------               --------------  -----  \n",
      " 0   Age                  24 non-null     int64  \n",
      " 1   Weight(kg)           24 non-null     int64  \n",
      " 2   Height(cm)           24 non-null     int64  \n",
      " 3   Neck(cm)             24 non-null     float64\n",
      " 4   Waist(cm)            24 non-null     int64  \n",
      " 5   Hip(cm)              24 non-null     int64  \n",
      " 6   Body Fat Percentage  24 non-null     float64\n",
      "dtypes: float64(2), int64(5)\n",
      "memory usage: 1.4 KB\n"
     ]
    }
   ],
   "source": [
    "df.info()"
   ]
  },
  {
   "cell_type": "code",
   "execution_count": 139,
   "metadata": {},
   "outputs": [
    {
     "data": {
      "text/html": [
       "<div>\n",
       "<style scoped>\n",
       "    .dataframe tbody tr th:only-of-type {\n",
       "        vertical-align: middle;\n",
       "    }\n",
       "\n",
       "    .dataframe tbody tr th {\n",
       "        vertical-align: top;\n",
       "    }\n",
       "\n",
       "    .dataframe thead th {\n",
       "        text-align: right;\n",
       "    }\n",
       "</style>\n",
       "<table border=\"1\" class=\"dataframe\">\n",
       "  <thead>\n",
       "    <tr style=\"text-align: right;\">\n",
       "      <th></th>\n",
       "      <th>Age</th>\n",
       "      <th>Weight(kg)</th>\n",
       "      <th>Height(cm)</th>\n",
       "      <th>Neck(cm)</th>\n",
       "      <th>Waist(cm)</th>\n",
       "      <th>Hip(cm)</th>\n",
       "      <th>Body Fat Percentage</th>\n",
       "    </tr>\n",
       "  </thead>\n",
       "  <tbody>\n",
       "    <tr>\n",
       "      <th>count</th>\n",
       "      <td>24.0</td>\n",
       "      <td>24.000000</td>\n",
       "      <td>24.000000</td>\n",
       "      <td>24.000000</td>\n",
       "      <td>24.000000</td>\n",
       "      <td>24.000000</td>\n",
       "      <td>24.000000</td>\n",
       "    </tr>\n",
       "    <tr>\n",
       "      <th>mean</th>\n",
       "      <td>25.0</td>\n",
       "      <td>67.583333</td>\n",
       "      <td>164.208333</td>\n",
       "      <td>37.066667</td>\n",
       "      <td>67.208333</td>\n",
       "      <td>85.166667</td>\n",
       "      <td>15.341667</td>\n",
       "    </tr>\n",
       "    <tr>\n",
       "      <th>std</th>\n",
       "      <td>0.0</td>\n",
       "      <td>15.553321</td>\n",
       "      <td>13.141303</td>\n",
       "      <td>3.450478</td>\n",
       "      <td>7.700814</td>\n",
       "      <td>5.027461</td>\n",
       "      <td>5.057918</td>\n",
       "    </tr>\n",
       "    <tr>\n",
       "      <th>min</th>\n",
       "      <td>25.0</td>\n",
       "      <td>40.000000</td>\n",
       "      <td>140.000000</td>\n",
       "      <td>32.000000</td>\n",
       "      <td>55.000000</td>\n",
       "      <td>79.000000</td>\n",
       "      <td>8.100000</td>\n",
       "    </tr>\n",
       "    <tr>\n",
       "      <th>25%</th>\n",
       "      <td>25.0</td>\n",
       "      <td>57.000000</td>\n",
       "      <td>152.250000</td>\n",
       "      <td>35.000000</td>\n",
       "      <td>61.750000</td>\n",
       "      <td>80.750000</td>\n",
       "      <td>10.900000</td>\n",
       "    </tr>\n",
       "    <tr>\n",
       "      <th>50%</th>\n",
       "      <td>25.0</td>\n",
       "      <td>66.500000</td>\n",
       "      <td>166.500000</td>\n",
       "      <td>36.000000</td>\n",
       "      <td>65.000000</td>\n",
       "      <td>84.500000</td>\n",
       "      <td>15.050000</td>\n",
       "    </tr>\n",
       "    <tr>\n",
       "      <th>75%</th>\n",
       "      <td>25.0</td>\n",
       "      <td>77.000000</td>\n",
       "      <td>171.750000</td>\n",
       "      <td>37.250000</td>\n",
       "      <td>71.250000</td>\n",
       "      <td>89.000000</td>\n",
       "      <td>18.175000</td>\n",
       "    </tr>\n",
       "    <tr>\n",
       "      <th>max</th>\n",
       "      <td>25.0</td>\n",
       "      <td>100.000000</td>\n",
       "      <td>190.000000</td>\n",
       "      <td>46.000000</td>\n",
       "      <td>85.000000</td>\n",
       "      <td>99.000000</td>\n",
       "      <td>26.900000</td>\n",
       "    </tr>\n",
       "  </tbody>\n",
       "</table>\n",
       "</div>"
      ],
      "text/plain": [
       "        Age  Weight(kg)  Height(cm)   Neck(cm)  Waist(cm)    Hip(cm)  \\\n",
       "count  24.0   24.000000   24.000000  24.000000  24.000000  24.000000   \n",
       "mean   25.0   67.583333  164.208333  37.066667  67.208333  85.166667   \n",
       "std     0.0   15.553321   13.141303   3.450478   7.700814   5.027461   \n",
       "min    25.0   40.000000  140.000000  32.000000  55.000000  79.000000   \n",
       "25%    25.0   57.000000  152.250000  35.000000  61.750000  80.750000   \n",
       "50%    25.0   66.500000  166.500000  36.000000  65.000000  84.500000   \n",
       "75%    25.0   77.000000  171.750000  37.250000  71.250000  89.000000   \n",
       "max    25.0  100.000000  190.000000  46.000000  85.000000  99.000000   \n",
       "\n",
       "       Body Fat Percentage  \n",
       "count            24.000000  \n",
       "mean             15.341667  \n",
       "std               5.057918  \n",
       "min               8.100000  \n",
       "25%              10.900000  \n",
       "50%              15.050000  \n",
       "75%              18.175000  \n",
       "max              26.900000  "
      ]
     },
     "execution_count": 139,
     "metadata": {},
     "output_type": "execute_result"
    }
   ],
   "source": [
    "df.describe()"
   ]
  },
  {
   "cell_type": "code",
   "execution_count": 140,
   "metadata": {},
   "outputs": [
    {
     "data": {
      "text/html": [
       "<div>\n",
       "<style scoped>\n",
       "    .dataframe tbody tr th:only-of-type {\n",
       "        vertical-align: middle;\n",
       "    }\n",
       "\n",
       "    .dataframe tbody tr th {\n",
       "        vertical-align: top;\n",
       "    }\n",
       "\n",
       "    .dataframe thead th {\n",
       "        text-align: right;\n",
       "    }\n",
       "</style>\n",
       "<table border=\"1\" class=\"dataframe\">\n",
       "  <thead>\n",
       "    <tr style=\"text-align: right;\">\n",
       "      <th></th>\n",
       "      <th>Age</th>\n",
       "      <th>Weight(kg)</th>\n",
       "      <th>Height(cm)</th>\n",
       "      <th>Neck(cm)</th>\n",
       "      <th>Waist(cm)</th>\n",
       "      <th>Hip(cm)</th>\n",
       "      <th>Body Fat Percentage</th>\n",
       "    </tr>\n",
       "  </thead>\n",
       "  <tbody>\n",
       "    <tr>\n",
       "      <th>count</th>\n",
       "      <td>0.0</td>\n",
       "      <td>6.000000</td>\n",
       "      <td>6.000000</td>\n",
       "      <td>6.000000</td>\n",
       "      <td>6.000000</td>\n",
       "      <td>6.000000</td>\n",
       "      <td>6.000000</td>\n",
       "    </tr>\n",
       "    <tr>\n",
       "      <th>mean</th>\n",
       "      <td>NaN</td>\n",
       "      <td>0.797677</td>\n",
       "      <td>0.445108</td>\n",
       "      <td>0.742516</td>\n",
       "      <td>0.796235</td>\n",
       "      <td>0.785603</td>\n",
       "      <td>0.546836</td>\n",
       "    </tr>\n",
       "    <tr>\n",
       "      <th>std</th>\n",
       "      <td>NaN</td>\n",
       "      <td>0.196217</td>\n",
       "      <td>0.386516</td>\n",
       "      <td>0.223565</td>\n",
       "      <td>0.200965</td>\n",
       "      <td>0.182303</td>\n",
       "      <td>0.413458</td>\n",
       "    </tr>\n",
       "    <tr>\n",
       "      <th>min</th>\n",
       "      <td>NaN</td>\n",
       "      <td>0.496722</td>\n",
       "      <td>-0.213185</td>\n",
       "      <td>0.453943</td>\n",
       "      <td>0.424459</td>\n",
       "      <td>0.482489</td>\n",
       "      <td>-0.213185</td>\n",
       "    </tr>\n",
       "    <tr>\n",
       "      <th>25%</th>\n",
       "      <td>NaN</td>\n",
       "      <td>0.679042</td>\n",
       "      <td>0.438385</td>\n",
       "      <td>0.563335</td>\n",
       "      <td>0.769146</td>\n",
       "      <td>0.709154</td>\n",
       "      <td>0.494258</td>\n",
       "    </tr>\n",
       "    <tr>\n",
       "      <th>50%</th>\n",
       "      <td>NaN</td>\n",
       "      <td>0.876763</td>\n",
       "      <td>0.481327</td>\n",
       "      <td>0.819013</td>\n",
       "      <td>0.838879</td>\n",
       "      <td>0.845045</td>\n",
       "      <td>0.642841</td>\n",
       "    </tr>\n",
       "    <tr>\n",
       "      <th>75%</th>\n",
       "      <td>NaN</td>\n",
       "      <td>0.911199</td>\n",
       "      <td>0.493163</td>\n",
       "      <td>0.868518</td>\n",
       "      <td>0.906686</td>\n",
       "      <td>0.869149</td>\n",
       "      <td>0.733555</td>\n",
       "    </tr>\n",
       "    <tr>\n",
       "      <th>max</th>\n",
       "      <td>NaN</td>\n",
       "      <td>1.000000</td>\n",
       "      <td>1.000000</td>\n",
       "      <td>1.000000</td>\n",
       "      <td>1.000000</td>\n",
       "      <td>1.000000</td>\n",
       "      <td>1.000000</td>\n",
       "    </tr>\n",
       "  </tbody>\n",
       "</table>\n",
       "</div>"
      ],
      "text/plain": [
       "       Age  Weight(kg)  Height(cm)  Neck(cm)  Waist(cm)   Hip(cm)  \\\n",
       "count  0.0    6.000000    6.000000  6.000000   6.000000  6.000000   \n",
       "mean   NaN    0.797677    0.445108  0.742516   0.796235  0.785603   \n",
       "std    NaN    0.196217    0.386516  0.223565   0.200965  0.182303   \n",
       "min    NaN    0.496722   -0.213185  0.453943   0.424459  0.482489   \n",
       "25%    NaN    0.679042    0.438385  0.563335   0.769146  0.709154   \n",
       "50%    NaN    0.876763    0.481327  0.819013   0.838879  0.845045   \n",
       "75%    NaN    0.911199    0.493163  0.868518   0.906686  0.869149   \n",
       "max    NaN    1.000000    1.000000  1.000000   1.000000  1.000000   \n",
       "\n",
       "       Body Fat Percentage  \n",
       "count             6.000000  \n",
       "mean              0.546836  \n",
       "std               0.413458  \n",
       "min              -0.213185  \n",
       "25%               0.494258  \n",
       "50%               0.642841  \n",
       "75%               0.733555  \n",
       "max               1.000000  "
      ]
     },
     "execution_count": 140,
     "metadata": {},
     "output_type": "execute_result"
    }
   ],
   "source": [
    "df.corr().describe()"
   ]
  },
  {
   "cell_type": "code",
   "execution_count": 141,
   "metadata": {},
   "outputs": [
    {
     "data": {
      "text/plain": [
       "Age                     25.000000\n",
       "Weight(kg)              67.583333\n",
       "Height(cm)             164.208333\n",
       "Neck(cm)                37.066667\n",
       "Waist(cm)               67.208333\n",
       "Hip(cm)                 85.166667\n",
       "Body Fat Percentage     15.341667\n",
       "dtype: float64"
      ]
     },
     "execution_count": 141,
     "metadata": {},
     "output_type": "execute_result"
    }
   ],
   "source": [
    "df.mean()"
   ]
  },
  {
   "cell_type": "code",
   "execution_count": 142,
   "metadata": {},
   "outputs": [
    {
     "data": {
      "text/plain": [
       "Age                     25.0\n",
       "Weight(kg)              40.0\n",
       "Height(cm)             140.0\n",
       "Neck(cm)                32.0\n",
       "Waist(cm)               55.0\n",
       "Hip(cm)                 79.0\n",
       "Body Fat Percentage      8.1\n",
       "dtype: float64"
      ]
     },
     "execution_count": 142,
     "metadata": {},
     "output_type": "execute_result"
    }
   ],
   "source": [
    "df.min()"
   ]
  },
  {
   "cell_type": "code",
   "execution_count": 143,
   "metadata": {},
   "outputs": [
    {
     "data": {
      "text/plain": [
       "Age                     25.0\n",
       "Weight(kg)             100.0\n",
       "Height(cm)             190.0\n",
       "Neck(cm)                46.0\n",
       "Waist(cm)               85.0\n",
       "Hip(cm)                 99.0\n",
       "Body Fat Percentage     26.9\n",
       "dtype: float64"
      ]
     },
     "execution_count": 143,
     "metadata": {},
     "output_type": "execute_result"
    }
   ],
   "source": [
    "df.max()"
   ]
  },
  {
   "cell_type": "code",
   "execution_count": 144,
   "metadata": {},
   "outputs": [
    {
     "data": {
      "text/plain": [
       "Age                    0\n",
       "Weight(kg)             0\n",
       "Height(cm)             0\n",
       "Neck(cm)               0\n",
       "Waist(cm)              0\n",
       "Hip(cm)                0\n",
       "Body Fat Percentage    0\n",
       "dtype: int64"
      ]
     },
     "execution_count": 144,
     "metadata": {},
     "output_type": "execute_result"
    }
   ],
   "source": [
    "df.isnull().sum()"
   ]
  },
  {
   "cell_type": "code",
   "execution_count": 145,
   "metadata": {},
   "outputs": [],
   "source": [
    "df=df.fillna(0)"
   ]
  },
  {
   "cell_type": "code",
   "execution_count": 146,
   "metadata": {},
   "outputs": [
    {
     "data": {
      "text/plain": [
       "['Age',\n",
       " 'Weight(kg)',\n",
       " 'Height(cm)',\n",
       " 'Neck(cm)',\n",
       " 'Waist(cm)',\n",
       " 'Hip(cm)',\n",
       " 'Body Fat Percentage']"
      ]
     },
     "execution_count": 146,
     "metadata": {},
     "output_type": "execute_result"
    }
   ],
   "source": [
    "list(df.columns)"
   ]
  },
  {
   "cell_type": "code",
   "execution_count": 147,
   "metadata": {},
   "outputs": [
    {
     "data": {
      "text/plain": [
       "(24, 7)"
      ]
     },
     "execution_count": 147,
     "metadata": {},
     "output_type": "execute_result"
    }
   ],
   "source": [
    "df.shape"
   ]
  },
  {
   "cell_type": "code",
   "execution_count": 148,
   "metadata": {},
   "outputs": [
    {
     "data": {
      "text/plain": [
       "Age                      int64\n",
       "Weight(kg)               int64\n",
       "Height(cm)               int64\n",
       "Neck(cm)               float64\n",
       "Waist(cm)                int64\n",
       "Hip(cm)                  int64\n",
       "Body Fat Percentage    float64\n",
       "dtype: object"
      ]
     },
     "execution_count": 148,
     "metadata": {},
     "output_type": "execute_result"
    }
   ],
   "source": [
    "df.dtypes"
   ]
  },
  {
   "cell_type": "code",
   "execution_count": 149,
   "metadata": {},
   "outputs": [
    {
     "data": {
      "text/html": [
       "<div>\n",
       "<style scoped>\n",
       "    .dataframe tbody tr th:only-of-type {\n",
       "        vertical-align: middle;\n",
       "    }\n",
       "\n",
       "    .dataframe tbody tr th {\n",
       "        vertical-align: top;\n",
       "    }\n",
       "\n",
       "    .dataframe thead th {\n",
       "        text-align: right;\n",
       "    }\n",
       "</style>\n",
       "<table border=\"1\" class=\"dataframe\">\n",
       "  <thead>\n",
       "    <tr style=\"text-align: right;\">\n",
       "      <th></th>\n",
       "      <th>Age</th>\n",
       "      <th>Weight(kg)</th>\n",
       "      <th>Height(cm)</th>\n",
       "      <th>Neck(cm)</th>\n",
       "      <th>Waist(cm)</th>\n",
       "      <th>Hip(cm)</th>\n",
       "      <th>Body Fat Percentage</th>\n",
       "    </tr>\n",
       "  </thead>\n",
       "  <tbody>\n",
       "    <tr>\n",
       "      <th>0</th>\n",
       "      <td>25</td>\n",
       "      <td>50</td>\n",
       "      <td>160</td>\n",
       "      <td>36.0</td>\n",
       "      <td>60</td>\n",
       "      <td>81</td>\n",
       "      <td>10.3</td>\n",
       "    </tr>\n",
       "    <tr>\n",
       "      <th>1</th>\n",
       "      <td>25</td>\n",
       "      <td>60</td>\n",
       "      <td>165</td>\n",
       "      <td>35.0</td>\n",
       "      <td>61</td>\n",
       "      <td>84</td>\n",
       "      <td>12.1</td>\n",
       "    </tr>\n",
       "    <tr>\n",
       "      <th>2</th>\n",
       "      <td>25</td>\n",
       "      <td>55</td>\n",
       "      <td>170</td>\n",
       "      <td>36.2</td>\n",
       "      <td>60</td>\n",
       "      <td>85</td>\n",
       "      <td>10.1</td>\n",
       "    </tr>\n",
       "    <tr>\n",
       "      <th>3</th>\n",
       "      <td>25</td>\n",
       "      <td>66</td>\n",
       "      <td>145</td>\n",
       "      <td>36.5</td>\n",
       "      <td>62</td>\n",
       "      <td>80</td>\n",
       "      <td>14.7</td>\n",
       "    </tr>\n",
       "    <tr>\n",
       "      <th>4</th>\n",
       "      <td>25</td>\n",
       "      <td>67</td>\n",
       "      <td>150</td>\n",
       "      <td>37.0</td>\n",
       "      <td>66</td>\n",
       "      <td>84</td>\n",
       "      <td>17.8</td>\n",
       "    </tr>\n",
       "  </tbody>\n",
       "</table>\n",
       "</div>"
      ],
      "text/plain": [
       "   Age  Weight(kg)  Height(cm)  Neck(cm)  Waist(cm)  Hip(cm)  \\\n",
       "0   25          50         160      36.0         60       81   \n",
       "1   25          60         165      35.0         61       84   \n",
       "2   25          55         170      36.2         60       85   \n",
       "3   25          66         145      36.5         62       80   \n",
       "4   25          67         150      37.0         66       84   \n",
       "\n",
       "   Body Fat Percentage  \n",
       "0                 10.3  \n",
       "1                 12.1  \n",
       "2                 10.1  \n",
       "3                 14.7  \n",
       "4                 17.8  "
      ]
     },
     "execution_count": 149,
     "metadata": {},
     "output_type": "execute_result"
    }
   ],
   "source": [
    "df.head()"
   ]
  },
  {
   "cell_type": "code",
   "execution_count": 150,
   "metadata": {},
   "outputs": [],
   "source": [
    "df=df.rename({'Body Fat Percentage':'Body_Fat_Percentage'},axis='columns')"
   ]
  },
  {
   "cell_type": "code",
   "execution_count": 151,
   "metadata": {},
   "outputs": [],
   "source": [
    "x=df.drop(['Age'],axis='columns')"
   ]
  },
  {
   "cell_type": "code",
   "execution_count": 152,
   "metadata": {},
   "outputs": [],
   "source": [
    "y=df.Age.values"
   ]
  },
  {
   "cell_type": "code",
   "execution_count": 153,
   "metadata": {},
   "outputs": [],
   "source": [
    "xtrain,xtest,ytrain,ytest=train_test_split(x,y,test_size=0.3)"
   ]
  },
  {
   "cell_type": "code",
   "execution_count": 154,
   "metadata": {},
   "outputs": [
    {
     "data": {
      "text/plain": [
       "100.0"
      ]
     },
     "execution_count": 154,
     "metadata": {},
     "output_type": "execute_result"
    }
   ],
   "source": [
    "tre=DecisionTreeClassifier()\n",
    "tre.fit(xtrain,ytrain)\n",
    "pred_tre=tre.predict(xtest)\n",
    "accu_tre=accuracy_score(ytest , pred_tre)*100\n",
    "accu_tre"
   ]
  },
  {
   "cell_type": "code",
   "execution_count": 155,
   "metadata": {},
   "outputs": [
    {
     "name": "stdout",
     "output_type": "stream",
     "text": [
      "              precision    recall  f1-score   support\n",
      "\n",
      "          25       1.00      1.00      1.00         8\n",
      "\n",
      "    accuracy                           1.00         8\n",
      "   macro avg       1.00      1.00      1.00         8\n",
      "weighted avg       1.00      1.00      1.00         8\n",
      "\n"
     ]
    }
   ],
   "source": [
    "print(classification_report(ytest,pred_tre))"
   ]
  },
  {
   "cell_type": "code",
   "execution_count": 156,
   "metadata": {},
   "outputs": [],
   "source": [
    "from sklearn.neighbors import KNeighborsClassifier"
   ]
  },
  {
   "cell_type": "code",
   "execution_count": 157,
   "metadata": {},
   "outputs": [
    {
     "data": {
      "text/plain": [
       "100.0"
      ]
     },
     "execution_count": 157,
     "metadata": {},
     "output_type": "execute_result"
    }
   ],
   "source": [
    "kne=KNeighborsClassifier()\n",
    "kne.fit(xtrain,ytrain)\n",
    "pred_kne=kne.predict(xtest)\n",
    "accu_kne=accuracy_score(ytest , pred_tre)*100\n",
    "accu_kne"
   ]
  },
  {
   "cell_type": "code",
   "execution_count": 158,
   "metadata": {},
   "outputs": [
    {
     "name": "stdout",
     "output_type": "stream",
     "text": [
      "              precision    recall  f1-score   support\n",
      "\n",
      "          25       1.00      1.00      1.00         8\n",
      "\n",
      "    accuracy                           1.00         8\n",
      "   macro avg       1.00      1.00      1.00         8\n",
      "weighted avg       1.00      1.00      1.00         8\n",
      "\n"
     ]
    }
   ],
   "source": [
    "print(classification_report(ytest,pred_kne))"
   ]
  },
  {
   "cell_type": "code",
   "execution_count": 159,
   "metadata": {},
   "outputs": [],
   "source": [
    "from sklearn.ensemble import AdaBoostClassifier"
   ]
  },
  {
   "cell_type": "code",
   "execution_count": 160,
   "metadata": {},
   "outputs": [
    {
     "data": {
      "text/plain": [
       "100.0"
      ]
     },
     "execution_count": 160,
     "metadata": {},
     "output_type": "execute_result"
    }
   ],
   "source": [
    "ada=AdaBoostClassifier()\n",
    "ada.fit(xtrain,ytrain)\n",
    "pred_ada=ada.predict(xtest)\n",
    "accu_ada=accuracy_score(ytest , pred_ada)*100\n",
    "accu_ada"
   ]
  },
  {
   "cell_type": "code",
   "execution_count": 161,
   "metadata": {},
   "outputs": [
    {
     "name": "stdout",
     "output_type": "stream",
     "text": [
      "              precision    recall  f1-score   support\n",
      "\n",
      "          25       1.00      1.00      1.00         8\n",
      "\n",
      "    accuracy                           1.00         8\n",
      "   macro avg       1.00      1.00      1.00         8\n",
      "weighted avg       1.00      1.00      1.00         8\n",
      "\n"
     ]
    }
   ],
   "source": [
    "print(classification_report(ytest,pred_ada))"
   ]
  },
  {
   "cell_type": "code",
   "execution_count": 162,
   "metadata": {},
   "outputs": [],
   "source": [
    "from sklearn.ensemble import BaggingClassifier"
   ]
  },
  {
   "cell_type": "code",
   "execution_count": 163,
   "metadata": {},
   "outputs": [
    {
     "data": {
      "text/plain": [
       "100.0"
      ]
     },
     "execution_count": 163,
     "metadata": {},
     "output_type": "execute_result"
    }
   ],
   "source": [
    "bag=BaggingClassifier()\n",
    "bag.fit(xtrain,ytrain)\n",
    "pred_bag=bag.predict(xtest)\n",
    "accu_bag=accuracy_score(ytest , pred_bag)*100\n",
    "accu_bag"
   ]
  },
  {
   "cell_type": "code",
   "execution_count": 164,
   "metadata": {},
   "outputs": [
    {
     "name": "stdout",
     "output_type": "stream",
     "text": [
      "              precision    recall  f1-score   support\n",
      "\n",
      "          25       1.00      1.00      1.00         8\n",
      "\n",
      "    accuracy                           1.00         8\n",
      "   macro avg       1.00      1.00      1.00         8\n",
      "weighted avg       1.00      1.00      1.00         8\n",
      "\n"
     ]
    }
   ],
   "source": [
    "print(classification_report(ytest,pred_bag))"
   ]
  },
  {
   "cell_type": "code",
   "execution_count": 165,
   "metadata": {},
   "outputs": [],
   "source": [
    "from sklearn.naive_bayes import GaussianNB"
   ]
  },
  {
   "cell_type": "code",
   "execution_count": 166,
   "metadata": {},
   "outputs": [
    {
     "data": {
      "text/plain": [
       "100.0"
      ]
     },
     "execution_count": 166,
     "metadata": {},
     "output_type": "execute_result"
    }
   ],
   "source": [
    "gau=GaussianNB()\n",
    "gau.fit(xtrain,ytrain)\n",
    "pre_gau=gau.predict(xtest)\n",
    "accu_l=accuracy_score(ytest,pre_gau)*100\n",
    "accu_l"
   ]
  },
  {
   "cell_type": "code",
   "execution_count": 167,
   "metadata": {},
   "outputs": [
    {
     "name": "stdout",
     "output_type": "stream",
     "text": [
      "              precision    recall  f1-score   support\n",
      "\n",
      "          25       1.00      1.00      1.00         8\n",
      "\n",
      "    accuracy                           1.00         8\n",
      "   macro avg       1.00      1.00      1.00         8\n",
      "weighted avg       1.00      1.00      1.00         8\n",
      "\n"
     ]
    }
   ],
   "source": [
    "print(classification_report(ytest,pre_gau))"
   ]
  },
  {
   "cell_type": "code",
   "execution_count": 168,
   "metadata": {},
   "outputs": [],
   "source": [
    "from sklearn.ensemble import AdaBoostClassifier"
   ]
  },
  {
   "cell_type": "code",
   "execution_count": 169,
   "metadata": {},
   "outputs": [
    {
     "data": {
      "text/plain": [
       "100.0"
      ]
     },
     "execution_count": 169,
     "metadata": {},
     "output_type": "execute_result"
    }
   ],
   "source": [
    "ada=AdaBoostClassifier()\n",
    "#rdf=RandomForestClassifier()\n",
    "ada.fit(xtrain,ytrain)\n",
    "pre_ada=ada.predict(xtest)\n",
    "accu_ada=accuracy_score(ytest,pre_ada)*100\n",
    "accu_ada"
   ]
  },
  {
   "cell_type": "code",
   "execution_count": 170,
   "metadata": {},
   "outputs": [
    {
     "name": "stdout",
     "output_type": "stream",
     "text": [
      "              precision    recall  f1-score   support\n",
      "\n",
      "          25       1.00      1.00      1.00         8\n",
      "\n",
      "    accuracy                           1.00         8\n",
      "   macro avg       1.00      1.00      1.00         8\n",
      "weighted avg       1.00      1.00      1.00         8\n",
      "\n"
     ]
    }
   ],
   "source": [
    "print(classification_report(ytest,pre_ada))"
   ]
  },
  {
   "cell_type": "code",
   "execution_count": 171,
   "metadata": {},
   "outputs": [],
   "source": [
    "from sklearn.ensemble import ExtraTreesClassifier"
   ]
  },
  {
   "cell_type": "code",
   "execution_count": 172,
   "metadata": {},
   "outputs": [
    {
     "data": {
      "text/plain": [
       "100.0"
      ]
     },
     "execution_count": 172,
     "metadata": {},
     "output_type": "execute_result"
    }
   ],
   "source": [
    "etc=ExtraTreesClassifier()\n",
    "etc.fit(xtrain,ytrain)\n",
    "pre_etc=etc.predict(xtest)\n",
    "accu_etc=accuracy_score(ytest,pre_etc)*100\n",
    "accu_etc"
   ]
  },
  {
   "cell_type": "code",
   "execution_count": 173,
   "metadata": {},
   "outputs": [
    {
     "name": "stdout",
     "output_type": "stream",
     "text": [
      "              precision    recall  f1-score   support\n",
      "\n",
      "          25       1.00      1.00      1.00         8\n",
      "\n",
      "    accuracy                           1.00         8\n",
      "   macro avg       1.00      1.00      1.00         8\n",
      "weighted avg       1.00      1.00      1.00         8\n",
      "\n"
     ]
    }
   ],
   "source": [
    "print(classification_report(ytest,pre_etc))"
   ]
  },
  {
   "cell_type": "code",
   "execution_count": 174,
   "metadata": {},
   "outputs": [
    {
     "data": {
      "text/html": [
       "<div>\n",
       "<style scoped>\n",
       "    .dataframe tbody tr th:only-of-type {\n",
       "        vertical-align: middle;\n",
       "    }\n",
       "\n",
       "    .dataframe tbody tr th {\n",
       "        vertical-align: top;\n",
       "    }\n",
       "\n",
       "    .dataframe thead th {\n",
       "        text-align: right;\n",
       "    }\n",
       "</style>\n",
       "<table border=\"1\" class=\"dataframe\">\n",
       "  <thead>\n",
       "    <tr style=\"text-align: right;\">\n",
       "      <th></th>\n",
       "      <th>Model</th>\n",
       "      <th>Score</th>\n",
       "    </tr>\n",
       "  </thead>\n",
       "  <tbody>\n",
       "    <tr>\n",
       "      <th>0</th>\n",
       "      <td>DecisionTreeClassifier</td>\n",
       "      <td>100.0</td>\n",
       "    </tr>\n",
       "    <tr>\n",
       "      <th>1</th>\n",
       "      <td>RandomForestClassifier</td>\n",
       "      <td>100.0</td>\n",
       "    </tr>\n",
       "    <tr>\n",
       "      <th>2</th>\n",
       "      <td>KNeighborsClassifier</td>\n",
       "      <td>100.0</td>\n",
       "    </tr>\n",
       "    <tr>\n",
       "      <th>3</th>\n",
       "      <td>AdaBoostClassifier</td>\n",
       "      <td>100.0</td>\n",
       "    </tr>\n",
       "    <tr>\n",
       "      <th>4</th>\n",
       "      <td>BaggingClassifier</td>\n",
       "      <td>100.0</td>\n",
       "    </tr>\n",
       "    <tr>\n",
       "      <th>5</th>\n",
       "      <td>GaussianNB</td>\n",
       "      <td>100.0</td>\n",
       "    </tr>\n",
       "    <tr>\n",
       "      <th>6</th>\n",
       "      <td>AdaBoostClassifier</td>\n",
       "      <td>100.0</td>\n",
       "    </tr>\n",
       "    <tr>\n",
       "      <th>7</th>\n",
       "      <td>GradientBoostingClassifier</td>\n",
       "      <td>100.0</td>\n",
       "    </tr>\n",
       "    <tr>\n",
       "      <th>8</th>\n",
       "      <td>ExtraTreesClassifier</td>\n",
       "      <td>100.0</td>\n",
       "    </tr>\n",
       "  </tbody>\n",
       "</table>\n",
       "</div>"
      ],
      "text/plain": [
       "                        Model  Score\n",
       "0      DecisionTreeClassifier  100.0\n",
       "1      RandomForestClassifier  100.0\n",
       "2        KNeighborsClassifier  100.0\n",
       "3          AdaBoostClassifier  100.0\n",
       "4           BaggingClassifier  100.0\n",
       "5                  GaussianNB  100.0\n",
       "6          AdaBoostClassifier  100.0\n",
       "7  GradientBoostingClassifier  100.0\n",
       "8        ExtraTreesClassifier  100.0"
      ]
     },
     "execution_count": 174,
     "metadata": {},
     "output_type": "execute_result"
    }
   ],
   "source": [
    "models = pd.DataFrame({\n",
    "    'Model': ['DecisionTreeClassifier','RandomForestClassifier',  'KNeighborsClassifier',\n",
    "             'AdaBoostClassifier','BaggingClassifier','GaussianNB','AdaBoostClassifier','GradientBoostingClassifier','ExtraTreesClassifier'],\n",
    "    'Score': [ accu_tre,accu_l, accu_kne, accu_ada,accu_bag,accu_l,accu_l,accu_ada,accu_etc]\n",
    "})\n",
    "\n",
    "models.sort_values(by = 'Score', ascending = False)"
   ]
  },
  {
   "cell_type": "code",
   "execution_count": 175,
   "metadata": {
    "scrolled": true
   },
   "outputs": [
    {
     "data": {
      "image/png": "[encoded data removed]",
      "text/plain": [
       "<Figure size 1080x576 with 1 Axes>"
      ]
     },
     "metadata": {},
     "output_type": "display_data"
    }
   ],
   "source": [
    "colors = [\"purple\", \"green\", \"orange\", \"magenta\",\"blue\",\"black\",\"red\"]\n",
    "\n",
    "sns.set_style(\"whitegrid\")\n",
    "plt.figure(figsize=(15,8))\n",
    "plt.ylabel(\"Accuracy %\")\n",
    "plt.xlabel(\"Algorithms\")\n",
    "sns.barplot(x=models['Model'],y=models['Score'], palette=colors )\n",
    "plt.show()"
   ]
  },
  {
   "cell_type": "code",
   "execution_count": 176,
   "metadata": {},
   "outputs": [
    {
     "data": {
      "text/html": [
       "<div>\n",
       "<style scoped>\n",
       "    .dataframe tbody tr th:only-of-type {\n",
       "        vertical-align: middle;\n",
       "    }\n",
       "\n",
       "    .dataframe tbody tr th {\n",
       "        vertical-align: top;\n",
       "    }\n",
       "\n",
       "    .dataframe thead th {\n",
       "        text-align: right;\n",
       "    }\n",
       "</style>\n",
       "<table border=\"1\" class=\"dataframe\">\n",
       "  <thead>\n",
       "    <tr style=\"text-align: right;\">\n",
       "      <th></th>\n",
       "      <th>Age</th>\n",
       "      <th>Weight(kg)</th>\n",
       "      <th>Height(cm)</th>\n",
       "      <th>Neck(cm)</th>\n",
       "      <th>Waist(cm)</th>\n",
       "      <th>Hip(cm)</th>\n",
       "      <th>Body_Fat_Percentage</th>\n",
       "    </tr>\n",
       "  </thead>\n",
       "  <tbody>\n",
       "    <tr>\n",
       "      <th>0</th>\n",
       "      <td>25</td>\n",
       "      <td>50</td>\n",
       "      <td>160</td>\n",
       "      <td>36.0</td>\n",
       "      <td>60</td>\n",
       "      <td>81</td>\n",
       "      <td>10.3</td>\n",
       "    </tr>\n",
       "    <tr>\n",
       "      <th>1</th>\n",
       "      <td>25</td>\n",
       "      <td>60</td>\n",
       "      <td>165</td>\n",
       "      <td>35.0</td>\n",
       "      <td>61</td>\n",
       "      <td>84</td>\n",
       "      <td>12.1</td>\n",
       "    </tr>\n",
       "    <tr>\n",
       "      <th>2</th>\n",
       "      <td>25</td>\n",
       "      <td>55</td>\n",
       "      <td>170</td>\n",
       "      <td>36.2</td>\n",
       "      <td>60</td>\n",
       "      <td>85</td>\n",
       "      <td>10.1</td>\n",
       "    </tr>\n",
       "    <tr>\n",
       "      <th>3</th>\n",
       "      <td>25</td>\n",
       "      <td>66</td>\n",
       "      <td>145</td>\n",
       "      <td>36.5</td>\n",
       "      <td>62</td>\n",
       "      <td>80</td>\n",
       "      <td>14.7</td>\n",
       "    </tr>\n",
       "    <tr>\n",
       "      <th>4</th>\n",
       "      <td>25</td>\n",
       "      <td>67</td>\n",
       "      <td>150</td>\n",
       "      <td>37.0</td>\n",
       "      <td>66</td>\n",
       "      <td>84</td>\n",
       "      <td>17.8</td>\n",
       "    </tr>\n",
       "  </tbody>\n",
       "</table>\n",
       "</div>"
      ],
      "text/plain": [
       "   Age  Weight(kg)  Height(cm)  Neck(cm)  Waist(cm)  Hip(cm)  \\\n",
       "0   25          50         160      36.0         60       81   \n",
       "1   25          60         165      35.0         61       84   \n",
       "2   25          55         170      36.2         60       85   \n",
       "3   25          66         145      36.5         62       80   \n",
       "4   25          67         150      37.0         66       84   \n",
       "\n",
       "   Body_Fat_Percentage  \n",
       "0                 10.3  \n",
       "1                 12.1  \n",
       "2                 10.1  \n",
       "3                 14.7  \n",
       "4                 17.8  "
      ]
     },
     "execution_count": 176,
     "metadata": {},
     "output_type": "execute_result"
    }
   ],
   "source": [
    "df.head()"
   ]
  },
  {
   "cell_type": "code",
   "execution_count": 177,
   "metadata": {},
   "outputs": [],
   "source": [
    "df=df.rename({'Weight(kg)':'Weight'},axis='columns')"
   ]
  },
  {
   "cell_type": "code",
   "execution_count": 178,
   "metadata": {},
   "outputs": [],
   "source": [
    "df=df.rename({'Height(cm)':'Height'},axis='columns')"
   ]
  },
  {
   "cell_type": "code",
   "execution_count": 179,
   "metadata": {},
   "outputs": [],
   "source": [
    "df=df.rename({'Neck(cm)':'Neck'},axis='columns')"
   ]
  },
  {
   "cell_type": "code",
   "execution_count": 180,
   "metadata": {},
   "outputs": [],
   "source": [
    "df=df.rename({'Waist(cm)':'Waist'},axis='columns')"
   ]
  },
  {
   "cell_type": "code",
   "execution_count": 181,
   "metadata": {},
   "outputs": [
    {
     "data": {
      "text/html": [
       "<div>\n",
       "<style scoped>\n",
       "    .dataframe tbody tr th:only-of-type {\n",
       "        vertical-align: middle;\n",
       "    }\n",
       "\n",
       "    .dataframe tbody tr th {\n",
       "        vertical-align: top;\n",
       "    }\n",
       "\n",
       "    .dataframe thead th {\n",
       "        text-align: right;\n",
       "    }\n",
       "</style>\n",
       "<table border=\"1\" class=\"dataframe\">\n",
       "  <thead>\n",
       "    <tr style=\"text-align: right;\">\n",
       "      <th></th>\n",
       "      <th>Age</th>\n",
       "      <th>Weight</th>\n",
       "      <th>Height</th>\n",
       "      <th>Neck</th>\n",
       "      <th>Waist</th>\n",
       "      <th>Hip(cm)</th>\n",
       "      <th>Body_Fat_Percentage</th>\n",
       "    </tr>\n",
       "  </thead>\n",
       "  <tbody>\n",
       "    <tr>\n",
       "      <th>0</th>\n",
       "      <td>25</td>\n",
       "      <td>50</td>\n",
       "      <td>160</td>\n",
       "      <td>36.0</td>\n",
       "      <td>60</td>\n",
       "      <td>81</td>\n",
       "      <td>10.3</td>\n",
       "    </tr>\n",
       "    <tr>\n",
       "      <th>1</th>\n",
       "      <td>25</td>\n",
       "      <td>60</td>\n",
       "      <td>165</td>\n",
       "      <td>35.0</td>\n",
       "      <td>61</td>\n",
       "      <td>84</td>\n",
       "      <td>12.1</td>\n",
       "    </tr>\n",
       "    <tr>\n",
       "      <th>2</th>\n",
       "      <td>25</td>\n",
       "      <td>55</td>\n",
       "      <td>170</td>\n",
       "      <td>36.2</td>\n",
       "      <td>60</td>\n",
       "      <td>85</td>\n",
       "      <td>10.1</td>\n",
       "    </tr>\n",
       "    <tr>\n",
       "      <th>3</th>\n",
       "      <td>25</td>\n",
       "      <td>66</td>\n",
       "      <td>145</td>\n",
       "      <td>36.5</td>\n",
       "      <td>62</td>\n",
       "      <td>80</td>\n",
       "      <td>14.7</td>\n",
       "    </tr>\n",
       "    <tr>\n",
       "      <th>4</th>\n",
       "      <td>25</td>\n",
       "      <td>67</td>\n",
       "      <td>150</td>\n",
       "      <td>37.0</td>\n",
       "      <td>66</td>\n",
       "      <td>84</td>\n",
       "      <td>17.8</td>\n",
       "    </tr>\n",
       "  </tbody>\n",
       "</table>\n",
       "</div>"
      ],
      "text/plain": [
       "   Age  Weight  Height  Neck  Waist  Hip(cm)  Body_Fat_Percentage\n",
       "0   25      50     160  36.0     60       81                 10.3\n",
       "1   25      60     165  35.0     61       84                 12.1\n",
       "2   25      55     170  36.2     60       85                 10.1\n",
       "3   25      66     145  36.5     62       80                 14.7\n",
       "4   25      67     150  37.0     66       84                 17.8"
      ]
     },
     "execution_count": 181,
     "metadata": {},
     "output_type": "execute_result"
    }
   ],
   "source": [
    "df.head()"
   ]
  },
  {
   "cell_type": "code",
   "execution_count": 182,
   "metadata": {},
   "outputs": [],
   "source": [
    "df=df.rename({'Hip(cm)':'Hip'},axis='columns')"
   ]
  },
  {
   "cell_type": "code",
   "execution_count": 183,
   "metadata": {},
   "outputs": [],
   "source": [
    "import sklearn.cluster as cluster"
   ]
  },
  {
   "cell_type": "code",
   "execution_count": 184,
   "metadata": {},
   "outputs": [],
   "source": [
    "kmns=cluster.KMeans(n_clusters=5)"
   ]
  },
  {
   "cell_type": "code",
   "execution_count": 187,
   "metadata": {},
   "outputs": [],
   "source": [
    "kmns=kmns.fit(df[['Weight','Body_Fat_Percentage']])"
   ]
  },
  {
   "cell_type": "code",
   "execution_count": 188,
   "metadata": {},
   "outputs": [
    {
     "data": {
      "text/plain": [
       "array([[56.5  , 11.05 ],\n",
       "       [93.25 , 20.525],\n",
       "       [66.4  , 14.7  ],\n",
       "       [42.   , 13.45 ],\n",
       "       [76.2  , 19.46 ]])"
      ]
     },
     "execution_count": 188,
     "metadata": {},
     "output_type": "execute_result"
    }
   ],
   "source": [
    "kmns.cluster_centers_"
   ]
  },
  {
   "cell_type": "code",
   "execution_count": 189,
   "metadata": {},
   "outputs": [],
   "source": [
    "df['Weight_Body_Fat_Percentage']=kmns.labels_"
   ]
  },
  {
   "cell_type": "code",
   "execution_count": 190,
   "metadata": {},
   "outputs": [
    {
     "data": {
      "text/html": [
       "<div>\n",
       "<style scoped>\n",
       "    .dataframe tbody tr th:only-of-type {\n",
       "        vertical-align: middle;\n",
       "    }\n",
       "\n",
       "    .dataframe tbody tr th {\n",
       "        vertical-align: top;\n",
       "    }\n",
       "\n",
       "    .dataframe thead th {\n",
       "        text-align: right;\n",
       "    }\n",
       "</style>\n",
       "<table border=\"1\" class=\"dataframe\">\n",
       "  <thead>\n",
       "    <tr style=\"text-align: right;\">\n",
       "      <th></th>\n",
       "      <th>Age</th>\n",
       "      <th>Weight</th>\n",
       "      <th>Height</th>\n",
       "      <th>Neck</th>\n",
       "      <th>Waist</th>\n",
       "      <th>Hip</th>\n",
       "      <th>Body_Fat_Percentage</th>\n",
       "      <th>Weight_Body_Fat_Percentage</th>\n",
       "    </tr>\n",
       "  </thead>\n",
       "  <tbody>\n",
       "    <tr>\n",
       "      <th>0</th>\n",
       "      <td>25</td>\n",
       "      <td>50</td>\n",
       "      <td>160</td>\n",
       "      <td>36.0</td>\n",
       "      <td>60</td>\n",
       "      <td>81</td>\n",
       "      <td>10.3</td>\n",
       "      <td>0</td>\n",
       "    </tr>\n",
       "    <tr>\n",
       "      <th>1</th>\n",
       "      <td>25</td>\n",
       "      <td>60</td>\n",
       "      <td>165</td>\n",
       "      <td>35.0</td>\n",
       "      <td>61</td>\n",
       "      <td>84</td>\n",
       "      <td>12.1</td>\n",
       "      <td>0</td>\n",
       "    </tr>\n",
       "    <tr>\n",
       "      <th>2</th>\n",
       "      <td>25</td>\n",
       "      <td>55</td>\n",
       "      <td>170</td>\n",
       "      <td>36.2</td>\n",
       "      <td>60</td>\n",
       "      <td>85</td>\n",
       "      <td>10.1</td>\n",
       "      <td>0</td>\n",
       "    </tr>\n",
       "    <tr>\n",
       "      <th>3</th>\n",
       "      <td>25</td>\n",
       "      <td>66</td>\n",
       "      <td>145</td>\n",
       "      <td>36.5</td>\n",
       "      <td>62</td>\n",
       "      <td>80</td>\n",
       "      <td>14.7</td>\n",
       "      <td>2</td>\n",
       "    </tr>\n",
       "    <tr>\n",
       "      <th>4</th>\n",
       "      <td>25</td>\n",
       "      <td>67</td>\n",
       "      <td>150</td>\n",
       "      <td>37.0</td>\n",
       "      <td>66</td>\n",
       "      <td>84</td>\n",
       "      <td>17.8</td>\n",
       "      <td>2</td>\n",
       "    </tr>\n",
       "  </tbody>\n",
       "</table>\n",
       "</div>"
      ],
      "text/plain": [
       "   Age  Weight  Height  Neck  Waist  Hip  Body_Fat_Percentage  \\\n",
       "0   25      50     160  36.0     60   81                 10.3   \n",
       "1   25      60     165  35.0     61   84                 12.1   \n",
       "2   25      55     170  36.2     60   85                 10.1   \n",
       "3   25      66     145  36.5     62   80                 14.7   \n",
       "4   25      67     150  37.0     66   84                 17.8   \n",
       "\n",
       "   Weight_Body_Fat_Percentage  \n",
       "0                           0  \n",
       "1                           0  \n",
       "2                           0  \n",
       "3                           2  \n",
       "4                           2  "
      ]
     },
     "execution_count": 190,
     "metadata": {},
     "output_type": "execute_result"
    }
   ],
   "source": [
    "df.head()"
   ]
  },
  {
   "cell_type": "code",
   "execution_count": 192,
   "metadata": {},
   "outputs": [
    {
     "data": {
      "text/plain": [
       "0    8\n",
       "2    5\n",
       "4    5\n",
       "1    4\n",
       "3    2\n",
       "Name: Weight_Body_Fat_Percentage, dtype: int64"
      ]
     },
     "execution_count": 192,
     "metadata": {},
     "output_type": "execute_result"
    }
   ],
   "source": [
    "df['Weight_Body_Fat_Percentage'].value_counts()"
   ]
  },
  {
   "cell_type": "code",
   "execution_count": 193,
   "metadata": {},
   "outputs": [],
   "source": [
    "from sklearn.cluster import KMeans "
   ]
  },
  {
   "cell_type": "code",
   "execution_count": 194,
   "metadata": {},
   "outputs": [],
   "source": [
    "k_range=range(1,12)\n",
    "wss=[]"
   ]
  },
  {
   "cell_type": "code",
   "execution_count": 197,
   "metadata": {},
   "outputs": [],
   "source": [
    "for k in k_range:\n",
    "    km=KMeans(n_clusters=k)\n",
    "    km.fit(df[['Weight','Body_Fat_Percentage']])\n",
    "    wss.append(km.inertia_)"
   ]
  },
  {
   "cell_type": "code",
   "execution_count": 198,
   "metadata": {},
   "outputs": [
    {
     "data": {
      "text/plain": [
       "[6152.231666666667,\n",
       " 2072.086222222222,\n",
       " 1124.5336616161617,\n",
       " 719.6915952380953,\n",
       " 498.3145,\n",
       " 322.8891666666667,\n",
       " 248.45083333333335,\n",
       " 181.9566666666667,\n",
       " 137.1446666666667,\n",
       " 98.35666666666668,\n",
       " 87.315]"
      ]
     },
     "execution_count": 198,
     "metadata": {},
     "output_type": "execute_result"
    }
   ],
   "source": [
    "wss"
   ]
  },
  {
   "cell_type": "code",
   "execution_count": 199,
   "metadata": {},
   "outputs": [],
   "source": [
    "kmns1=cluster.KMeans(n_clusters=5)"
   ]
  },
  {
   "cell_type": "code",
   "execution_count": 200,
   "metadata": {},
   "outputs": [],
   "source": [
    "kmns1=kmns1.fit(df[['Height','Body_Fat_Percentage']])"
   ]
  },
  {
   "cell_type": "code",
   "execution_count": 201,
   "metadata": {},
   "outputs": [
    {
     "data": {
      "text/plain": [
       "array([[147.        ,  15.08      ],\n",
       "       [180.83333333,  14.2       ],\n",
       "       [153.75      ,  21.225     ],\n",
       "       [167.16666667,  10.31666667],\n",
       "       [167.66666667,  20.26666667]])"
      ]
     },
     "execution_count": 201,
     "metadata": {},
     "output_type": "execute_result"
    }
   ],
   "source": [
    "kmns1.cluster_centers_"
   ]
  },
  {
   "cell_type": "code",
   "execution_count": 202,
   "metadata": {},
   "outputs": [],
   "source": [
    "df['Height_Body_Fat_Percentage']=kmns1.labels_"
   ]
  },
  {
   "cell_type": "code",
   "execution_count": 203,
   "metadata": {},
   "outputs": [],
   "source": [
    "k_range=range(1,12)\n",
    "wcc=[]"
   ]
  },
  {
   "cell_type": "code",
   "execution_count": 204,
   "metadata": {},
   "outputs": [],
   "source": [
    "for k in k_range:\n",
    "    km=KMeans(n_clusters=k)\n",
    "    km.fit(df[['Height','Body_Fat_Percentage']])\n",
    "    wcc.append(km.inertia_)"
   ]
  },
  {
   "cell_type": "code",
   "execution_count": 205,
   "metadata": {},
   "outputs": [
    {
     "data": {
      "text/plain": [
       "[4560.356666666667,\n",
       " 1518.9954285714286,\n",
       " 908.2622222222222,\n",
       " 709.7572222222223,\n",
       " 527.2433333333333,\n",
       " 363.405,\n",
       " 238.97500000000002,\n",
       " 166.23933333333332,\n",
       " 118.61133333333333,\n",
       " 92.39083333333335,\n",
       " 76.70583333333333]"
      ]
     },
     "execution_count": 205,
     "metadata": {},
     "output_type": "execute_result"
    }
   ],
   "source": [
    "wcc"
   ]
  },
  {
   "cell_type": "code",
   "execution_count": 207,
   "metadata": {},
   "outputs": [],
   "source": [
    "kmns2=cluster.KMeans(n_clusters=5)"
   ]
  },
  {
   "cell_type": "code",
   "execution_count": 209,
   "metadata": {},
   "outputs": [],
   "source": [
    "kmns2=kmns1.fit(df[['Hip','Body_Fat_Percentage']])"
   ]
  },
  {
   "cell_type": "code",
   "execution_count": 210,
   "metadata": {},
   "outputs": [
    {
     "data": {
      "text/plain": [
       "array([[81.        , 11.04545455],\n",
       "       [84.75      , 16.825     ],\n",
       "       [90.25      , 16.3       ],\n",
       "       [88.5       , 23.225     ],\n",
       "       [99.        , 21.3       ]])"
      ]
     },
     "execution_count": 210,
     "metadata": {},
     "output_type": "execute_result"
    }
   ],
   "source": [
    "kmns2.cluster_centers_"
   ]
  },
  {
   "cell_type": "code",
   "execution_count": 211,
   "metadata": {},
   "outputs": [],
   "source": [
    "df['Hip_Body_Fat_Percentage']=kmns1.labels_"
   ]
  },
  {
   "cell_type": "code",
   "execution_count": 214,
   "metadata": {},
   "outputs": [],
   "source": [
    "k_range=range(1,12)\n",
    "wcs=[]"
   ]
  },
  {
   "cell_type": "code",
   "execution_count": 215,
   "metadata": {},
   "outputs": [],
   "source": [
    "for k in k_range:\n",
    "    km=KMeans(n_clusters=k)\n",
    "    km.fit(df[['Height','Body_Fat_Percentage']])\n",
    "    wcs.append(km.inertia_)"
   ]
  },
  {
   "cell_type": "code",
   "execution_count": 217,
   "metadata": {},
   "outputs": [
    {
     "data": {
      "text/plain": [
       "[4560.356666666667,\n",
       " 1518.9954285714286,\n",
       " 908.2622222222222,\n",
       " 709.7572222222223,\n",
       " 524.7303333333333,\n",
       " 365.91799999999995,\n",
       " 238.97500000000002,\n",
       " 166.23933333333332,\n",
       " 118.61133333333333,\n",
       " 92.08583333333333,\n",
       " 76.70583333333333]"
      ]
     },
     "execution_count": 217,
     "metadata": {},
     "output_type": "execute_result"
    }
   ],
   "source": [
    "wcs"
   ]
  },
  {
   "cell_type": "code",
   "execution_count": 218,
   "metadata": {},
   "outputs": [
    {
     "data": {
      "text/html": [
       "<div>\n",
       "<style scoped>\n",
       "    .dataframe tbody tr th:only-of-type {\n",
       "        vertical-align: middle;\n",
       "    }\n",
       "\n",
       "    .dataframe tbody tr th {\n",
       "        vertical-align: top;\n",
       "    }\n",
       "\n",
       "    .dataframe thead th {\n",
       "        text-align: right;\n",
       "    }\n",
       "</style>\n",
       "<table border=\"1\" class=\"dataframe\">\n",
       "  <thead>\n",
       "    <tr style=\"text-align: right;\">\n",
       "      <th></th>\n",
       "      <th>Age</th>\n",
       "      <th>Weight</th>\n",
       "      <th>Height</th>\n",
       "      <th>Neck</th>\n",
       "      <th>Waist</th>\n",
       "      <th>Hip</th>\n",
       "      <th>Body_Fat_Percentage</th>\n",
       "      <th>Weight_Body_Fat_Percentage</th>\n",
       "      <th>Height_Body_Fat_Percentage</th>\n",
       "      <th>Hip_Body_Fat_Percentage</th>\n",
       "    </tr>\n",
       "  </thead>\n",
       "  <tbody>\n",
       "    <tr>\n",
       "      <th>0</th>\n",
       "      <td>25</td>\n",
       "      <td>50</td>\n",
       "      <td>160</td>\n",
       "      <td>36.0</td>\n",
       "      <td>60</td>\n",
       "      <td>81</td>\n",
       "      <td>10.3</td>\n",
       "      <td>0</td>\n",
       "      <td>3</td>\n",
       "      <td>0</td>\n",
       "    </tr>\n",
       "    <tr>\n",
       "      <th>1</th>\n",
       "      <td>25</td>\n",
       "      <td>60</td>\n",
       "      <td>165</td>\n",
       "      <td>35.0</td>\n",
       "      <td>61</td>\n",
       "      <td>84</td>\n",
       "      <td>12.1</td>\n",
       "      <td>0</td>\n",
       "      <td>3</td>\n",
       "      <td>0</td>\n",
       "    </tr>\n",
       "    <tr>\n",
       "      <th>2</th>\n",
       "      <td>25</td>\n",
       "      <td>55</td>\n",
       "      <td>170</td>\n",
       "      <td>36.2</td>\n",
       "      <td>60</td>\n",
       "      <td>85</td>\n",
       "      <td>10.1</td>\n",
       "      <td>0</td>\n",
       "      <td>3</td>\n",
       "      <td>0</td>\n",
       "    </tr>\n",
       "    <tr>\n",
       "      <th>3</th>\n",
       "      <td>25</td>\n",
       "      <td>66</td>\n",
       "      <td>145</td>\n",
       "      <td>36.5</td>\n",
       "      <td>62</td>\n",
       "      <td>80</td>\n",
       "      <td>14.7</td>\n",
       "      <td>2</td>\n",
       "      <td>0</td>\n",
       "      <td>0</td>\n",
       "    </tr>\n",
       "    <tr>\n",
       "      <th>4</th>\n",
       "      <td>25</td>\n",
       "      <td>67</td>\n",
       "      <td>150</td>\n",
       "      <td>37.0</td>\n",
       "      <td>66</td>\n",
       "      <td>84</td>\n",
       "      <td>17.8</td>\n",
       "      <td>2</td>\n",
       "      <td>0</td>\n",
       "      <td>1</td>\n",
       "    </tr>\n",
       "    <tr>\n",
       "      <th>5</th>\n",
       "      <td>25</td>\n",
       "      <td>80</td>\n",
       "      <td>177</td>\n",
       "      <td>38.0</td>\n",
       "      <td>70</td>\n",
       "      <td>89</td>\n",
       "      <td>15.4</td>\n",
       "      <td>4</td>\n",
       "      <td>1</td>\n",
       "      <td>2</td>\n",
       "    </tr>\n",
       "    <tr>\n",
       "      <th>6</th>\n",
       "      <td>25</td>\n",
       "      <td>56</td>\n",
       "      <td>178</td>\n",
       "      <td>35.0</td>\n",
       "      <td>63</td>\n",
       "      <td>82</td>\n",
       "      <td>8.9</td>\n",
       "      <td>0</td>\n",
       "      <td>1</td>\n",
       "      <td>0</td>\n",
       "    </tr>\n",
       "    <tr>\n",
       "      <th>7</th>\n",
       "      <td>25</td>\n",
       "      <td>68</td>\n",
       "      <td>180</td>\n",
       "      <td>35.0</td>\n",
       "      <td>65</td>\n",
       "      <td>81</td>\n",
       "      <td>9.1</td>\n",
       "      <td>2</td>\n",
       "      <td>1</td>\n",
       "      <td>0</td>\n",
       "    </tr>\n",
       "    <tr>\n",
       "      <th>8</th>\n",
       "      <td>25</td>\n",
       "      <td>70</td>\n",
       "      <td>150</td>\n",
       "      <td>35.1</td>\n",
       "      <td>75</td>\n",
       "      <td>89</td>\n",
       "      <td>26.9</td>\n",
       "      <td>4</td>\n",
       "      <td>2</td>\n",
       "      <td>3</td>\n",
       "    </tr>\n",
       "    <tr>\n",
       "      <th>9</th>\n",
       "      <td>25</td>\n",
       "      <td>75</td>\n",
       "      <td>155</td>\n",
       "      <td>35.8</td>\n",
       "      <td>76</td>\n",
       "      <td>87</td>\n",
       "      <td>24.5</td>\n",
       "      <td>4</td>\n",
       "      <td>2</td>\n",
       "      <td>3</td>\n",
       "    </tr>\n",
       "    <tr>\n",
       "      <th>10</th>\n",
       "      <td>25</td>\n",
       "      <td>76</td>\n",
       "      <td>180</td>\n",
       "      <td>37.0</td>\n",
       "      <td>70</td>\n",
       "      <td>90</td>\n",
       "      <td>15.8</td>\n",
       "      <td>4</td>\n",
       "      <td>1</td>\n",
       "      <td>2</td>\n",
       "    </tr>\n",
       "    <tr>\n",
       "      <th>11</th>\n",
       "      <td>25</td>\n",
       "      <td>80</td>\n",
       "      <td>180</td>\n",
       "      <td>39.0</td>\n",
       "      <td>70</td>\n",
       "      <td>90</td>\n",
       "      <td>14.7</td>\n",
       "      <td>4</td>\n",
       "      <td>1</td>\n",
       "      <td>2</td>\n",
       "    </tr>\n",
       "    <tr>\n",
       "      <th>12</th>\n",
       "      <td>25</td>\n",
       "      <td>88</td>\n",
       "      <td>168</td>\n",
       "      <td>39.0</td>\n",
       "      <td>78</td>\n",
       "      <td>88</td>\n",
       "      <td>20.9</td>\n",
       "      <td>1</td>\n",
       "      <td>4</td>\n",
       "      <td>3</td>\n",
       "    </tr>\n",
       "    <tr>\n",
       "      <th>13</th>\n",
       "      <td>25</td>\n",
       "      <td>59</td>\n",
       "      <td>170</td>\n",
       "      <td>36.0</td>\n",
       "      <td>65</td>\n",
       "      <td>80</td>\n",
       "      <td>10.2</td>\n",
       "      <td>0</td>\n",
       "      <td>3</td>\n",
       "      <td>0</td>\n",
       "    </tr>\n",
       "    <tr>\n",
       "      <th>14</th>\n",
       "      <td>25</td>\n",
       "      <td>90</td>\n",
       "      <td>165</td>\n",
       "      <td>44.0</td>\n",
       "      <td>79</td>\n",
       "      <td>90</td>\n",
       "      <td>20.6</td>\n",
       "      <td>1</td>\n",
       "      <td>4</td>\n",
       "      <td>3</td>\n",
       "    </tr>\n",
       "    <tr>\n",
       "      <th>15</th>\n",
       "      <td>25</td>\n",
       "      <td>95</td>\n",
       "      <td>170</td>\n",
       "      <td>45.0</td>\n",
       "      <td>78</td>\n",
       "      <td>92</td>\n",
       "      <td>19.3</td>\n",
       "      <td>1</td>\n",
       "      <td>4</td>\n",
       "      <td>2</td>\n",
       "    </tr>\n",
       "    <tr>\n",
       "      <th>16</th>\n",
       "      <td>25</td>\n",
       "      <td>100</td>\n",
       "      <td>190</td>\n",
       "      <td>46.0</td>\n",
       "      <td>85</td>\n",
       "      <td>99</td>\n",
       "      <td>21.3</td>\n",
       "      <td>1</td>\n",
       "      <td>1</td>\n",
       "      <td>4</td>\n",
       "    </tr>\n",
       "    <tr>\n",
       "      <th>17</th>\n",
       "      <td>25</td>\n",
       "      <td>40</td>\n",
       "      <td>140</td>\n",
       "      <td>32.0</td>\n",
       "      <td>55</td>\n",
       "      <td>79</td>\n",
       "      <td>13.9</td>\n",
       "      <td>3</td>\n",
       "      <td>0</td>\n",
       "      <td>0</td>\n",
       "    </tr>\n",
       "    <tr>\n",
       "      <th>18</th>\n",
       "      <td>25</td>\n",
       "      <td>57</td>\n",
       "      <td>169</td>\n",
       "      <td>35.0</td>\n",
       "      <td>65</td>\n",
       "      <td>80</td>\n",
       "      <td>11.1</td>\n",
       "      <td>0</td>\n",
       "      <td>3</td>\n",
       "      <td>0</td>\n",
       "    </tr>\n",
       "    <tr>\n",
       "      <th>19</th>\n",
       "      <td>25</td>\n",
       "      <td>44</td>\n",
       "      <td>150</td>\n",
       "      <td>33.0</td>\n",
       "      <td>59</td>\n",
       "      <td>79</td>\n",
       "      <td>13.0</td>\n",
       "      <td>3</td>\n",
       "      <td>0</td>\n",
       "      <td>0</td>\n",
       "    </tr>\n",
       "    <tr>\n",
       "      <th>20</th>\n",
       "      <td>25</td>\n",
       "      <td>57</td>\n",
       "      <td>169</td>\n",
       "      <td>35.0</td>\n",
       "      <td>60</td>\n",
       "      <td>80</td>\n",
       "      <td>8.1</td>\n",
       "      <td>0</td>\n",
       "      <td>3</td>\n",
       "      <td>0</td>\n",
       "    </tr>\n",
       "    <tr>\n",
       "      <th>21</th>\n",
       "      <td>25</td>\n",
       "      <td>69</td>\n",
       "      <td>150</td>\n",
       "      <td>36.0</td>\n",
       "      <td>62</td>\n",
       "      <td>84</td>\n",
       "      <td>16.0</td>\n",
       "      <td>2</td>\n",
       "      <td>0</td>\n",
       "      <td>1</td>\n",
       "    </tr>\n",
       "    <tr>\n",
       "      <th>22</th>\n",
       "      <td>25</td>\n",
       "      <td>58</td>\n",
       "      <td>153</td>\n",
       "      <td>36.0</td>\n",
       "      <td>65</td>\n",
       "      <td>85</td>\n",
       "      <td>17.6</td>\n",
       "      <td>0</td>\n",
       "      <td>2</td>\n",
       "      <td>1</td>\n",
       "    </tr>\n",
       "    <tr>\n",
       "      <th>23</th>\n",
       "      <td>25</td>\n",
       "      <td>62</td>\n",
       "      <td>157</td>\n",
       "      <td>37.0</td>\n",
       "      <td>64</td>\n",
       "      <td>86</td>\n",
       "      <td>15.9</td>\n",
       "      <td>2</td>\n",
       "      <td>2</td>\n",
       "      <td>1</td>\n",
       "    </tr>\n",
       "  </tbody>\n",
       "</table>\n",
       "</div>"
      ],
      "text/plain": [
       "    Age  Weight  Height  Neck  Waist  Hip  Body_Fat_Percentage  \\\n",
       "0    25      50     160  36.0     60   81                 10.3   \n",
       "1    25      60     165  35.0     61   84                 12.1   \n",
       "2    25      55     170  36.2     60   85                 10.1   \n",
       "3    25      66     145  36.5     62   80                 14.7   \n",
       "4    25      67     150  37.0     66   84                 17.8   \n",
       "5    25      80     177  38.0     70   89                 15.4   \n",
       "6    25      56     178  35.0     63   82                  8.9   \n",
       "7    25      68     180  35.0     65   81                  9.1   \n",
       "8    25      70     150  35.1     75   89                 26.9   \n",
       "9    25      75     155  35.8     76   87                 24.5   \n",
       "10   25      76     180  37.0     70   90                 15.8   \n",
       "11   25      80     180  39.0     70   90                 14.7   \n",
       "12   25      88     168  39.0     78   88                 20.9   \n",
       "13   25      59     170  36.0     65   80                 10.2   \n",
       "14   25      90     165  44.0     79   90                 20.6   \n",
       "15   25      95     170  45.0     78   92                 19.3   \n",
       "16   25     100     190  46.0     85   99                 21.3   \n",
       "17   25      40     140  32.0     55   79                 13.9   \n",
       "18   25      57     169  35.0     65   80                 11.1   \n",
       "19   25      44     150  33.0     59   79                 13.0   \n",
       "20   25      57     169  35.0     60   80                  8.1   \n",
       "21   25      69     150  36.0     62   84                 16.0   \n",
       "22   25      58     153  36.0     65   85                 17.6   \n",
       "23   25      62     157  37.0     64   86                 15.9   \n",
       "\n",
       "    Weight_Body_Fat_Percentage  Height_Body_Fat_Percentage  \\\n",
       "0                            0                           3   \n",
       "1                            0                           3   \n",
       "2                            0                           3   \n",
       "3                            2                           0   \n",
       "4                            2                           0   \n",
       "5                            4                           1   \n",
       "6                            0                           1   \n",
       "7                            2                           1   \n",
       "8                            4                           2   \n",
       "9                            4                           2   \n",
       "10                           4                           1   \n",
       "11                           4                           1   \n",
       "12                           1                           4   \n",
       "13                           0                           3   \n",
       "14                           1                           4   \n",
       "15                           1                           4   \n",
       "16                           1                           1   \n",
       "17                           3                           0   \n",
       "18                           0                           3   \n",
       "19                           3                           0   \n",
       "20                           0                           3   \n",
       "21                           2                           0   \n",
       "22                           0                           2   \n",
       "23                           2                           2   \n",
       "\n",
       "    Hip_Body_Fat_Percentage  \n",
       "0                         0  \n",
       "1                         0  \n",
       "2                         0  \n",
       "3                         0  \n",
       "4                         1  \n",
       "5                         2  \n",
       "6                         0  \n",
       "7                         0  \n",
       "8                         3  \n",
       "9                         3  \n",
       "10                        2  \n",
       "11                        2  \n",
       "12                        3  \n",
       "13                        0  \n",
       "14                        3  \n",
       "15                        2  \n",
       "16                        4  \n",
       "17                        0  \n",
       "18                        0  \n",
       "19                        0  \n",
       "20                        0  \n",
       "21                        1  \n",
       "22                        1  \n",
       "23                        1  "
      ]
     },
     "execution_count": 218,
     "metadata": {},
     "output_type": "execute_result"
    }
   ],
   "source": [
    "df"
   ]
  },
  {
   "cell_type": "code",
   "execution_count": null,
   "metadata": {},
   "outputs": [],
   "source": []
  }
 ],
 "metadata": {
  "kernelspec": {
   "display_name": "Python 3",
   "language": "python",
   "name": "python3"
  },
  "language_info": {
   "codemirror_mode": {
    "name": "ipython",
    "version": 3
   },
   "file_extension": ".py",
   "mimetype": "text/x-python",
   "name": "python",
   "nbconvert_exporter": "python",
   "pygments_lexer": "ipython3",
   "version": "3.7.6"
  }
 },
 "nbformat": 4,
 "nbformat_minor": 4
}
